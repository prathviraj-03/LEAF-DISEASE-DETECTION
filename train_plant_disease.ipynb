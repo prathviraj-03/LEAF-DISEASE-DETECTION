{
 "cells": [
  {
   "cell_type": "markdown",
   "id": "5d5c73d9-a8f9-4813-bfea-b438a1eeba3c",
   "metadata": {},
   "source": [
    "# DATA SET LINK \n",
    "## https://www.kaggle.com/datasets/emmarex/plantdisease"
   ]
  },
  {
   "cell_type": "code",
   "execution_count": null,
   "id": "3148a91c-ba8e-491a-8586-146eec366ffa",
   "metadata": {},
   "outputs": [],
   "source": []
  },
  {
   "cell_type": "markdown",
   "id": "2f175385-a525-4a60-bc1b-18b8dd2b64e5",
   "metadata": {},
   "source": [
    "## IMPORT libraries "
   ]
  },
  {
   "cell_type": "code",
   "execution_count": 1,
   "id": "875e8de6-c21f-4fe4-be44-7ab3e6a3588e",
   "metadata": {},
   "outputs": [],
   "source": [
    "import tensorflow as tf\n",
    "import matplotlib.pyplot as plt\n",
    "import pandas as pd\n",
    "import seaborn as sns #SG MAT\n",
    "import sklearn.metrics as metrics\n",
    "from sklearn.metrics import confusion_matrix,classification_report #PER REP"
   ]
  },
  {
   "cell_type": "markdown",
   "id": "0245252c-22ff-44b3-8906-760da338f003",
   "metadata": {},
   "source": [
    "## DATA preprocessing"
   ]
  },
  {
   "cell_type": "markdown",
   "id": "a0c08fe5-e24c-4e3b-83db-c30401acb419",
   "metadata": {},
   "source": [
    "### training image preprocessing "
   ]
  },
  {
   "cell_type": "code",
   "execution_count": 54,
   "id": "4646baca-b610-4fba-83b4-ddd60f8428c5",
   "metadata": {},
   "outputs": [
    {
     "name": "stdout",
     "output_type": "stream",
     "text": [
      "Found 70295 files belonging to 38 classes.\n"
     ]
    }
   ],
   "source": [
    "training_set = tf.keras.utils.image_dataset_from_directory(\n",
    "    'C:\\\\data set\\\\New Plant Diseases Dataset(Augmented)\\\\New Plant Diseases Dataset(Augmented)\\\\train',\n",
    "    labels=\"inferred\",\n",
    "    label_mode=\"categorical\",\n",
    "    class_names=None,\n",
    "    color_mode=\"rgb\",\n",
    "    batch_size=128,\n",
    "    image_size=(128, 128),\n",
    "    shuffle=True,\n",
    "    seed=None,\n",
    "    validation_split=None,\n",
    "    subset=None,\n",
    "    interpolation=\"bilinear\",\n",
    "    follow_links=False,\n",
    "    crop_to_aspect_ratio=False,\n",
    ")"
   ]
  },
  {
   "cell_type": "code",
   "execution_count": 55,
   "id": "f6a5acfa-e8b8-49c4-bc36-0ad549392555",
   "metadata": {},
   "outputs": [
    {
     "name": "stdout",
     "output_type": "stream",
     "text": [
      "Found 17572 files belonging to 38 classes.\n",
      "Class names: ['Apple___Apple_scab', 'Apple___Black_rot', 'Apple___Cedar_apple_rust', 'Apple___healthy', 'Blueberry___healthy', 'Cherry_(including_sour)___Powdery_mildew', 'Cherry_(including_sour)___healthy', 'Corn_(maize)___Cercospora_leaf_spot Gray_leaf_spot', 'Corn_(maize)___Common_rust_', 'Corn_(maize)___Northern_Leaf_Blight', 'Corn_(maize)___healthy', 'Grape___Black_rot', 'Grape___Esca_(Black_Measles)', 'Grape___Leaf_blight_(Isariopsis_Leaf_Spot)', 'Grape___healthy', 'Orange___Haunglongbing_(Citrus_greening)', 'Peach___Bacterial_spot', 'Peach___healthy', 'Pepper,_bell___Bacterial_spot', 'Pepper,_bell___healthy', 'Potato___Early_blight', 'Potato___Late_blight', 'Potato___healthy', 'Raspberry___healthy', 'Soybean___healthy', 'Squash___Powdery_mildew', 'Strawberry___Leaf_scorch', 'Strawberry___healthy', 'Tomato___Bacterial_spot', 'Tomato___Early_blight', 'Tomato___Late_blight', 'Tomato___Leaf_Mold', 'Tomato___Septoria_leaf_spot', 'Tomato___Spider_mites Two-spotted_spider_mite', 'Tomato___Target_Spot', 'Tomato___Tomato_Yellow_Leaf_Curl_Virus', 'Tomato___Tomato_mosaic_virus', 'Tomato___healthy']\n"
     ]
    }
   ],
   "source": [
    "# Create the validation_set dataset\n",
    "validation_set = tf.keras.utils.image_dataset_from_directory(\n",
    "    'valid',\n",
    "    labels=\"inferred\",\n",
    "    label_mode=\"categorical\",\n",
    "    class_names=None,\n",
    "    color_mode=\"rgb\",\n",
    "    batch_size=32,\n",
    "    image_size=(128, 128),\n",
    "    shuffle=True,\n",
    "    seed=None,\n",
    "    validation_split=None,\n",
    "    subset=None,\n",
    "    interpolation=\"bilinear\",\n",
    "    follow_links=False,\n",
    "    crop_to_aspect_ratio=False\n",
    ")\n",
    "\n",
    "# Get the class names\n",
    "class_names = validation_set.class_names\n",
    "\n",
    "# Print the class names\n",
    "print(\"Class names:\", class_names)"
   ]
  },
  {
   "cell_type": "code",
   "execution_count": 56,
   "id": "88ff0fac-1b04-411c-8b2d-667f0fd6f690",
   "metadata": {},
   "outputs": [
    {
     "data": {
      "text/plain": [
       "<_PrefetchDataset element_spec=(TensorSpec(shape=(None, 128, 128, 3), dtype=tf.float32, name=None), TensorSpec(shape=(None, 38), dtype=tf.float32, name=None))>"
      ]
     },
     "execution_count": 56,
     "metadata": {},
     "output_type": "execute_result"
    }
   ],
   "source": [
    "training_set"
   ]
  },
  {
   "cell_type": "code",
   "execution_count": 57,
   "id": "773694ea-40d0-4be4-a485-a651959c08c1",
   "metadata": {},
   "outputs": [
    {
     "name": "stdout",
     "output_type": "stream",
     "text": [
      "tf.Tensor(\n",
      "[[[[188.   167.   176.  ]\n",
      "   [192.   171.   180.  ]\n",
      "   [222.25 204.75 213.25]\n",
      "   ...\n",
      "   [194.25 178.25 188.25]\n",
      "   [184.5  168.5  178.5 ]\n",
      "   [195.75 179.75 189.75]]\n",
      "\n",
      "  [[194.   173.   182.  ]\n",
      "   [181.5  160.5  169.5 ]\n",
      "   [191.5  170.5  179.5 ]\n",
      "   ...\n",
      "   [204.75 188.75 198.75]\n",
      "   [202.75 186.75 196.75]\n",
      "   [214.5  198.5  208.5 ]]\n",
      "\n",
      "  [[190.25 169.25 178.25]\n",
      "   [183.25 162.25 171.25]\n",
      "   [205.5  184.5  193.5 ]\n",
      "   ...\n",
      "   [187.5  171.5  181.5 ]\n",
      "   [193.5  177.5  187.5 ]\n",
      "   [208.75 192.75 202.75]]\n",
      "\n",
      "  ...\n",
      "\n",
      "  [[224.25 211.25 218.25]\n",
      "   [237.   224.   231.  ]\n",
      "   [226.5  213.5  220.5 ]\n",
      "   ...\n",
      "   [246.25 241.25 245.25]\n",
      "   [245.   240.   244.  ]\n",
      "   [248.75 243.75 247.75]]\n",
      "\n",
      "  [[226.75 215.5  222.25]\n",
      "   [231.75 219.25 226.25]\n",
      "   [229.75 217.   224.  ]\n",
      "   ...\n",
      "   [244.5  239.5  243.5 ]\n",
      "   [253.5  250.   253.  ]\n",
      "   [253.5  249.25 252.75]]\n",
      "\n",
      "  [[229.5  217.   224.  ]\n",
      "   [228.   215.   222.  ]\n",
      "   [238.5  225.5  232.5 ]\n",
      "   ...\n",
      "   [240.   235.   239.  ]\n",
      "   [242.5  237.5  241.5 ]\n",
      "   [248.75 244.5  248.  ]]]\n",
      "\n",
      "\n",
      " [[[114.25 109.25 105.25]\n",
      "   [123.75 118.75 114.75]\n",
      "   [125.5  120.5  116.5 ]\n",
      "   ...\n",
      "   [112.75 109.75 104.75]\n",
      "   [112.   109.   104.  ]\n",
      "   [115.25 112.25 107.25]]\n",
      "\n",
      "  [[125.5  120.5  116.5 ]\n",
      "   [121.5  116.5  112.5 ]\n",
      "   [125.5  120.5  116.5 ]\n",
      "   ...\n",
      "   [114.25 111.25 106.25]\n",
      "   [111.75 108.75 103.75]\n",
      "   [111.   108.   103.  ]]\n",
      "\n",
      "  [[128.25 123.25 119.25]\n",
      "   [124.5  119.5  115.5 ]\n",
      "   [116.75 111.75 107.75]\n",
      "   ...\n",
      "   [112.25 109.25 104.25]\n",
      "   [110.75 107.75 102.75]\n",
      "   [110.5  107.5  102.5 ]]\n",
      "\n",
      "  ...\n",
      "\n",
      "  [[115.75 113.25 102.25]\n",
      "   [112.5  108.25  99.5 ]\n",
      "   [123.75 115.   106.5 ]\n",
      "   ...\n",
      "   [ 99.5   90.5   83.5 ]\n",
      "   [ 95.25  86.25  79.25]\n",
      "   [100.    91.    84.  ]]\n",
      "\n",
      "  [[110.75 106.75 105.5 ]\n",
      "   [120.75 116.5  106.75]\n",
      "   [120.75 113.5   97.25]\n",
      "   ...\n",
      "   [ 98.    89.    82.  ]\n",
      "   [ 99.5   90.5   83.5 ]\n",
      "   [ 97.    88.    81.  ]]\n",
      "\n",
      "  [[106.75 101.25 109.25]\n",
      "   [113.75 109.75  99.75]\n",
      "   [115.25 109.    87.25]\n",
      "   ...\n",
      "   [ 98.75  89.75  82.75]\n",
      "   [ 95.    86.    79.  ]\n",
      "   [ 98.5   89.5   82.5 ]]]\n",
      "\n",
      "\n",
      " [[[226.5  221.5  215.5 ]\n",
      "   [223.25 218.25 212.25]\n",
      "   [221.   216.   210.  ]\n",
      "   ...\n",
      "   [198.25 187.25 181.25]\n",
      "   [201.   190.   184.  ]\n",
      "   [198.5  187.5  181.5 ]]\n",
      "\n",
      "  [[227.   222.   216.  ]\n",
      "   [224.25 219.25 213.25]\n",
      "   [228.25 223.25 217.25]\n",
      "   ...\n",
      "   [202.5  191.5  185.5 ]\n",
      "   [201.75 190.75 184.75]\n",
      "   [201.25 190.25 184.25]]\n",
      "\n",
      "  [[226.   221.   215.  ]\n",
      "   [221.25 216.25 210.25]\n",
      "   [227.5  222.5  216.5 ]\n",
      "   ...\n",
      "   [200.   189.   183.  ]\n",
      "   [199.75 188.75 182.75]\n",
      "   [206.   195.   189.  ]]\n",
      "\n",
      "  ...\n",
      "\n",
      "  [[223.75 219.75 216.75]\n",
      "   [226.5  222.5  219.5 ]\n",
      "   [220.75 216.75 213.75]\n",
      "   ...\n",
      "   [204.75 186.75 182.75]\n",
      "   [190.5  172.5  168.5 ]\n",
      "   [185.75 167.75 163.75]]\n",
      "\n",
      "  [[225.   221.   218.  ]\n",
      "   [220.   216.   213.  ]\n",
      "   [224.   220.   217.  ]\n",
      "   ...\n",
      "   [189.75 171.75 167.75]\n",
      "   [164.75 146.75 142.75]\n",
      "   [170.25 152.25 148.25]]\n",
      "\n",
      "  [[223.75 219.75 216.75]\n",
      "   [233.   229.   226.  ]\n",
      "   [226.   222.   219.  ]\n",
      "   ...\n",
      "   [192.25 174.25 170.25]\n",
      "   [178.5  160.5  156.5 ]\n",
      "   [178.5  160.5  156.5 ]]]\n",
      "\n",
      "\n",
      " ...\n",
      "\n",
      "\n",
      " [[[149.   146.   155.  ]\n",
      "   [151.75 148.75 157.75]\n",
      "   [142.25 139.25 148.25]\n",
      "   ...\n",
      "   [172.25 165.25 173.25]\n",
      "   [162.   155.   163.  ]\n",
      "   [180.75 173.75 181.75]]\n",
      "\n",
      "  [[148.25 145.25 154.25]\n",
      "   [158.5  155.5  164.5 ]\n",
      "   [156.25 153.25 162.25]\n",
      "   ...\n",
      "   [133.5  126.5  134.5 ]\n",
      "   [138.25 131.25 139.25]\n",
      "   [166.   159.   167.  ]]\n",
      "\n",
      "  [[152.25 149.25 158.25]\n",
      "   [152.25 149.25 158.25]\n",
      "   [156.25 153.25 162.25]\n",
      "   ...\n",
      "   [134.5  127.5  135.5 ]\n",
      "   [157.25 150.25 158.25]\n",
      "   [160.75 153.75 161.75]]\n",
      "\n",
      "  ...\n",
      "\n",
      "  [[107.25  97.25  96.25]\n",
      "   [101.    91.    90.  ]\n",
      "   [107.75  97.75  96.75]\n",
      "   ...\n",
      "   [154.25 143.25 141.25]\n",
      "   [157.25 146.25 144.25]\n",
      "   [167.5  156.5  154.5 ]]\n",
      "\n",
      "  [[118.25 108.25 107.25]\n",
      "   [103.    93.    92.  ]\n",
      "   [103.75  93.75  92.75]\n",
      "   ...\n",
      "   [145.   134.   132.  ]\n",
      "   [155.5  144.5  142.5 ]\n",
      "   [159.5  148.5  146.5 ]]\n",
      "\n",
      "  [[ 91.    81.    80.  ]\n",
      "   [119.5  109.5  108.5 ]\n",
      "   [101.25  91.25  90.25]\n",
      "   ...\n",
      "   [137.   126.   124.  ]\n",
      "   [143.75 132.75 130.75]\n",
      "   [148.75 137.75 135.75]]]\n",
      "\n",
      "\n",
      " [[[  0.     0.     0.  ]\n",
      "   [  0.     0.     0.  ]\n",
      "   [  0.     0.     0.  ]\n",
      "   ...\n",
      "   [  0.     0.     0.  ]\n",
      "   [  0.     0.     0.  ]\n",
      "   [  0.     0.     0.  ]]\n",
      "\n",
      "  [[  0.     0.     0.  ]\n",
      "   [  0.     0.     0.  ]\n",
      "   [  0.     0.     0.  ]\n",
      "   ...\n",
      "   [  0.     0.     0.  ]\n",
      "   [  0.     0.     0.  ]\n",
      "   [  0.     0.     0.  ]]\n",
      "\n",
      "  [[  0.     0.     0.  ]\n",
      "   [  0.     0.     0.  ]\n",
      "   [  0.     0.     0.  ]\n",
      "   ...\n",
      "   [  0.     0.     0.  ]\n",
      "   [  0.     0.     0.  ]\n",
      "   [  0.     0.     0.  ]]\n",
      "\n",
      "  ...\n",
      "\n",
      "  [[  0.     0.     0.  ]\n",
      "   [  0.     0.     0.  ]\n",
      "   [  0.     0.     0.  ]\n",
      "   ...\n",
      "   [  0.     0.     0.  ]\n",
      "   [  0.     0.     0.  ]\n",
      "   [  0.     0.     0.  ]]\n",
      "\n",
      "  [[  0.     0.     0.  ]\n",
      "   [  0.     0.     0.  ]\n",
      "   [  0.     0.     0.  ]\n",
      "   ...\n",
      "   [  0.     0.     0.  ]\n",
      "   [  0.     0.     0.  ]\n",
      "   [  0.     0.     0.  ]]\n",
      "\n",
      "  [[  0.     0.     0.  ]\n",
      "   [  0.     0.     0.  ]\n",
      "   [  0.     0.     0.  ]\n",
      "   ...\n",
      "   [  0.     0.     0.  ]\n",
      "   [  0.     0.     0.  ]\n",
      "   [  0.     0.     0.  ]]]\n",
      "\n",
      "\n",
      " [[[145.5  136.5  139.5 ]\n",
      "   [136.75 127.75 130.75]\n",
      "   [150.5  141.5  144.5 ]\n",
      "   ...\n",
      "   [128.25 117.25 121.25]\n",
      "   [124.25 113.25 117.25]\n",
      "   [124.75 113.75 117.75]]\n",
      "\n",
      "  [[139.75 130.75 133.75]\n",
      "   [140.   131.   134.  ]\n",
      "   [146.75 137.75 140.75]\n",
      "   ...\n",
      "   [120.5  109.5  113.5 ]\n",
      "   [116.25 105.25 109.25]\n",
      "   [125.25 114.25 118.25]]\n",
      "\n",
      "  [[140.75 131.75 134.75]\n",
      "   [142.5  133.5  136.5 ]\n",
      "   [140.   131.   134.  ]\n",
      "   ...\n",
      "   [133.25 122.25 126.25]\n",
      "   [128.25 117.25 121.25]\n",
      "   [116.75 105.75 109.75]]\n",
      "\n",
      "  ...\n",
      "\n",
      "  [[148.5  140.5  138.5 ]\n",
      "   [152.5  144.5  142.5 ]\n",
      "   [146.5  138.5  136.5 ]\n",
      "   ...\n",
      "   [126.   114.   114.  ]\n",
      "   [132.5  120.5  120.5 ]\n",
      "   [128.   116.   116.  ]]\n",
      "\n",
      "  [[150.5  142.5  140.5 ]\n",
      "   [156.   148.   146.  ]\n",
      "   [150.75 142.75 140.75]\n",
      "   ...\n",
      "   [131.5  119.5  119.5 ]\n",
      "   [128.   116.   116.  ]\n",
      "   [127.   115.   115.  ]]\n",
      "\n",
      "  [[163.5  155.5  153.5 ]\n",
      "   [155.   147.   145.  ]\n",
      "   [156.   148.   146.  ]\n",
      "   ...\n",
      "   [129.25 117.25 117.25]\n",
      "   [124.25 112.25 112.25]\n",
      "   [118.   106.   106.  ]]]], shape=(128, 128, 128, 3), dtype=float32) (128, 128, 128, 3)\n",
      "tf.Tensor(\n",
      "[[0. 0. 0. ... 0. 0. 0.]\n",
      " [0. 0. 0. ... 0. 0. 0.]\n",
      " [0. 0. 0. ... 0. 0. 0.]\n",
      " ...\n",
      " [0. 0. 0. ... 0. 0. 0.]\n",
      " [0. 0. 0. ... 0. 0. 0.]\n",
      " [0. 0. 0. ... 0. 0. 0.]], shape=(128, 38), dtype=float32) (128, 38)\n"
     ]
    }
   ],
   "source": [
    "for x,y in training_set:\n",
    "    print(x,x.shape)\n",
    "    print(y,y.shape)\n",
    "    break"
   ]
  },
  {
   "cell_type": "markdown",
   "id": "f30f5d05-8dde-4d2a-818e-eeb9d5a616ce",
   "metadata": {},
   "source": [
    "### Building Model"
   ]
  },
  {
   "cell_type": "code",
   "execution_count": 58,
   "id": "8d2e26f2-8a78-4ebf-b835-55e6cca732fa",
   "metadata": {},
   "outputs": [],
   "source": [
    "from tensorflow.keras.layers import Dense,Conv2D,MaxPool2D,Flatten,Dropout\n",
    "from tensorflow.keras.models import Sequential"
   ]
  },
  {
   "cell_type": "code",
   "execution_count": 59,
   "id": "58868e17-57ca-49e6-b31e-a018a678ebea",
   "metadata": {},
   "outputs": [],
   "source": [
    "cnn = tf.keras.models.Sequential()"
   ]
  },
  {
   "cell_type": "markdown",
   "id": "e8df4d42-60fb-4f6b-ae0d-36537f019a76",
   "metadata": {},
   "source": [
    "## Building Convolutional Model"
   ]
  },
  {
   "cell_type": "code",
   "execution_count": 60,
   "id": "82580ba4-924f-4065-b182-296cdf864f67",
   "metadata": {},
   "outputs": [
    {
     "name": "stderr",
     "output_type": "stream",
     "text": [
      "C:\\Users\\achar\\AppData\\Local\\Programs\\Python\\Python311\\Lib\\site-packages\\keras\\src\\layers\\convolutional\\base_conv.py:99: UserWarning: Do not pass an `input_shape`/`input_dim` argument to a layer. When using Sequential models, prefer using an `Input(shape)` object as the first layer in the model instead.\n",
      "  super().__init__(\n"
     ]
    }
   ],
   "source": [
    "cnn.add(tf.keras.layers.Conv2D(filters=32,kernel_size=3,padding='same',activation='relu',input_shape=[128,128,3]))\n",
    "cnn.add(tf.keras.layers.Conv2D(filters=32,kernel_size=3,activation='relu'))\n",
    "cnn.add(tf.keras.layers.MaxPool2D(pool_size=2,strides=2))"
   ]
  },
  {
   "cell_type": "code",
   "execution_count": 61,
   "id": "c2c5d694-f0a8-4de9-9c63-4ed213c41ff0",
   "metadata": {},
   "outputs": [],
   "source": [
    "cnn.add(tf.keras.layers.Conv2D(filters=64,kernel_size=3,padding='same',activation='relu'))\n",
    "cnn.add(tf.keras.layers.Conv2D(filters=64,kernel_size=3,activation='relu'))\n",
    "cnn.add(tf.keras.layers.MaxPool2D(pool_size=2,strides=2))"
   ]
  },
  {
   "cell_type": "code",
   "execution_count": 62,
   "id": "7ec5e951-6fbf-4259-8ae0-2f3904a36298",
   "metadata": {},
   "outputs": [],
   "source": [
    "cnn.add(tf.keras.layers.Conv2D(filters=128,kernel_size=3,padding='same',activation='relu'))\n",
    "cnn.add(tf.keras.layers.Conv2D(filters=128,kernel_size=3,activation='relu'))\n",
    "cnn.add(tf.keras.layers.MaxPool2D(pool_size=2,strides=2))"
   ]
  },
  {
   "cell_type": "code",
   "execution_count": 63,
   "id": "13122825-d04d-4291-a6d2-353e4022a00d",
   "metadata": {},
   "outputs": [],
   "source": [
    "cnn.add(tf.keras.layers.Conv2D(filters=256,kernel_size=3,padding='same',activation='relu'))\n",
    "cnn.add(tf.keras.layers.Conv2D(filters=256,kernel_size=3,activation='relu'))\n",
    "cnn.add(tf.keras.layers.MaxPool2D(pool_size=2,strides=2))"
   ]
  },
  {
   "cell_type": "code",
   "execution_count": 64,
   "id": "a93eabe8-4ace-4b97-a443-fa057e5fda67",
   "metadata": {},
   "outputs": [],
   "source": [
    "cnn.add(tf.keras.layers.Conv2D(filters=512,kernel_size=3,padding='same',activation='relu'))\n",
    "cnn.add(tf.keras.layers.Conv2D(filters=512,kernel_size=3,activation='relu'))\n",
    "cnn.add(tf.keras.layers.MaxPool2D(pool_size=2,strides=2))"
   ]
  },
  {
   "cell_type": "code",
   "execution_count": 65,
   "id": "47520c38-dd04-4f9c-83bd-e6d51b3cd740",
   "metadata": {},
   "outputs": [],
   "source": [
    "cnn.add(tf.keras.layers.Dropout(0.25))"
   ]
  },
  {
   "cell_type": "code",
   "execution_count": 66,
   "id": "e24e7981-7d78-495d-9449-c3fa86f011ec",
   "metadata": {},
   "outputs": [],
   "source": [
    "cnn.add(tf.keras.layers.Flatten())"
   ]
  },
  {
   "cell_type": "code",
   "execution_count": 67,
   "id": "86d10b36-4a63-4c27-859a-98dfc7c55429",
   "metadata": {},
   "outputs": [],
   "source": [
    "cnn.add(tf.keras.layers.Dense(units=1500,activation='relu'))"
   ]
  },
  {
   "cell_type": "code",
   "execution_count": 68,
   "id": "cb72c7d3-2f86-45b4-a11c-4317e7df3a55",
   "metadata": {},
   "outputs": [],
   "source": [
    "cnn.add(tf.keras.layers.Dropout(0.4)) #To avoid overfitting"
   ]
  },
  {
   "cell_type": "code",
   "execution_count": 69,
   "id": "8508fd78-262f-4da6-9375-b66322084889",
   "metadata": {},
   "outputs": [],
   "source": [
    "## output layer\n",
    "cnn.add(tf.keras.layers.Dense(units=38,activation='softmax'))"
   ]
  },
  {
   "cell_type": "markdown",
   "id": "ed90a953-1d88-44ae-96e1-54cf0ef3eaa8",
   "metadata": {},
   "source": [
    "### Compiling Model"
   ]
  },
  {
   "cell_type": "code",
   "execution_count": 70,
   "id": "f6353735-788b-40da-b989-19b75e3d9dba",
   "metadata": {},
   "outputs": [],
   "source": [
    "cnn.compile(optimizer=tf.keras.optimizers.Adam(learning_rate=0.0001), loss='categorical_crossentropy', metrics=['accuracy'])"
   ]
  },
  {
   "cell_type": "code",
   "execution_count": 71,
   "id": "7bed29dd-e85b-48f5-b4e1-7b3516de688d",
   "metadata": {},
   "outputs": [
    {
     "data": {
      "text/html": [
       "<pre style=\"white-space:pre;overflow-x:auto;line-height:normal;font-family:Menlo,'DejaVu Sans Mono',consolas,'Courier New',monospace\"><span style=\"font-weight: bold\">Model: \"sequential_2\"</span>\n",
       "</pre>\n"
      ],
      "text/plain": [
       "\u001b[1mModel: \"sequential_2\"\u001b[0m\n"
      ]
     },
     "metadata": {},
     "output_type": "display_data"
    },
    {
     "data": {
      "text/html": [
       "<pre style=\"white-space:pre;overflow-x:auto;line-height:normal;font-family:Menlo,'DejaVu Sans Mono',consolas,'Courier New',monospace\">┏━━━━━━━━━━━━━━━━━━━━━━━━━━━━━━━━━━━━━━┳━━━━━━━━━━━━━━━━━━━━━━━━━━━━━┳━━━━━━━━━━━━━━━━━┓\n",
       "┃<span style=\"font-weight: bold\"> Layer (type)                         </span>┃<span style=\"font-weight: bold\"> Output Shape                </span>┃<span style=\"font-weight: bold\">         Param # </span>┃\n",
       "┡━━━━━━━━━━━━━━━━━━━━━━━━━━━━━━━━━━━━━━╇━━━━━━━━━━━━━━━━━━━━━━━━━━━━━╇━━━━━━━━━━━━━━━━━┩\n",
       "│ conv2d_10 (<span style=\"color: #0087ff; text-decoration-color: #0087ff\">Conv2D</span>)                   │ (<span style=\"color: #00d7ff; text-decoration-color: #00d7ff\">None</span>, <span style=\"color: #00af00; text-decoration-color: #00af00\">128</span>, <span style=\"color: #00af00; text-decoration-color: #00af00\">128</span>, <span style=\"color: #00af00; text-decoration-color: #00af00\">32</span>)        │             <span style=\"color: #00af00; text-decoration-color: #00af00\">896</span> │\n",
       "├──────────────────────────────────────┼─────────────────────────────┼─────────────────┤\n",
       "│ conv2d_11 (<span style=\"color: #0087ff; text-decoration-color: #0087ff\">Conv2D</span>)                   │ (<span style=\"color: #00d7ff; text-decoration-color: #00d7ff\">None</span>, <span style=\"color: #00af00; text-decoration-color: #00af00\">126</span>, <span style=\"color: #00af00; text-decoration-color: #00af00\">126</span>, <span style=\"color: #00af00; text-decoration-color: #00af00\">32</span>)        │           <span style=\"color: #00af00; text-decoration-color: #00af00\">9,248</span> │\n",
       "├──────────────────────────────────────┼─────────────────────────────┼─────────────────┤\n",
       "│ max_pooling2d_5 (<span style=\"color: #0087ff; text-decoration-color: #0087ff\">MaxPooling2D</span>)       │ (<span style=\"color: #00d7ff; text-decoration-color: #00d7ff\">None</span>, <span style=\"color: #00af00; text-decoration-color: #00af00\">63</span>, <span style=\"color: #00af00; text-decoration-color: #00af00\">63</span>, <span style=\"color: #00af00; text-decoration-color: #00af00\">32</span>)          │               <span style=\"color: #00af00; text-decoration-color: #00af00\">0</span> │\n",
       "├──────────────────────────────────────┼─────────────────────────────┼─────────────────┤\n",
       "│ conv2d_12 (<span style=\"color: #0087ff; text-decoration-color: #0087ff\">Conv2D</span>)                   │ (<span style=\"color: #00d7ff; text-decoration-color: #00d7ff\">None</span>, <span style=\"color: #00af00; text-decoration-color: #00af00\">63</span>, <span style=\"color: #00af00; text-decoration-color: #00af00\">63</span>, <span style=\"color: #00af00; text-decoration-color: #00af00\">64</span>)          │          <span style=\"color: #00af00; text-decoration-color: #00af00\">18,496</span> │\n",
       "├──────────────────────────────────────┼─────────────────────────────┼─────────────────┤\n",
       "│ conv2d_13 (<span style=\"color: #0087ff; text-decoration-color: #0087ff\">Conv2D</span>)                   │ (<span style=\"color: #00d7ff; text-decoration-color: #00d7ff\">None</span>, <span style=\"color: #00af00; text-decoration-color: #00af00\">61</span>, <span style=\"color: #00af00; text-decoration-color: #00af00\">61</span>, <span style=\"color: #00af00; text-decoration-color: #00af00\">64</span>)          │          <span style=\"color: #00af00; text-decoration-color: #00af00\">36,928</span> │\n",
       "├──────────────────────────────────────┼─────────────────────────────┼─────────────────┤\n",
       "│ max_pooling2d_6 (<span style=\"color: #0087ff; text-decoration-color: #0087ff\">MaxPooling2D</span>)       │ (<span style=\"color: #00d7ff; text-decoration-color: #00d7ff\">None</span>, <span style=\"color: #00af00; text-decoration-color: #00af00\">30</span>, <span style=\"color: #00af00; text-decoration-color: #00af00\">30</span>, <span style=\"color: #00af00; text-decoration-color: #00af00\">64</span>)          │               <span style=\"color: #00af00; text-decoration-color: #00af00\">0</span> │\n",
       "├──────────────────────────────────────┼─────────────────────────────┼─────────────────┤\n",
       "│ conv2d_14 (<span style=\"color: #0087ff; text-decoration-color: #0087ff\">Conv2D</span>)                   │ (<span style=\"color: #00d7ff; text-decoration-color: #00d7ff\">None</span>, <span style=\"color: #00af00; text-decoration-color: #00af00\">30</span>, <span style=\"color: #00af00; text-decoration-color: #00af00\">30</span>, <span style=\"color: #00af00; text-decoration-color: #00af00\">128</span>)         │          <span style=\"color: #00af00; text-decoration-color: #00af00\">73,856</span> │\n",
       "├──────────────────────────────────────┼─────────────────────────────┼─────────────────┤\n",
       "│ conv2d_15 (<span style=\"color: #0087ff; text-decoration-color: #0087ff\">Conv2D</span>)                   │ (<span style=\"color: #00d7ff; text-decoration-color: #00d7ff\">None</span>, <span style=\"color: #00af00; text-decoration-color: #00af00\">28</span>, <span style=\"color: #00af00; text-decoration-color: #00af00\">28</span>, <span style=\"color: #00af00; text-decoration-color: #00af00\">128</span>)         │         <span style=\"color: #00af00; text-decoration-color: #00af00\">147,584</span> │\n",
       "├──────────────────────────────────────┼─────────────────────────────┼─────────────────┤\n",
       "│ max_pooling2d_7 (<span style=\"color: #0087ff; text-decoration-color: #0087ff\">MaxPooling2D</span>)       │ (<span style=\"color: #00d7ff; text-decoration-color: #00d7ff\">None</span>, <span style=\"color: #00af00; text-decoration-color: #00af00\">14</span>, <span style=\"color: #00af00; text-decoration-color: #00af00\">14</span>, <span style=\"color: #00af00; text-decoration-color: #00af00\">128</span>)         │               <span style=\"color: #00af00; text-decoration-color: #00af00\">0</span> │\n",
       "├──────────────────────────────────────┼─────────────────────────────┼─────────────────┤\n",
       "│ conv2d_16 (<span style=\"color: #0087ff; text-decoration-color: #0087ff\">Conv2D</span>)                   │ (<span style=\"color: #00d7ff; text-decoration-color: #00d7ff\">None</span>, <span style=\"color: #00af00; text-decoration-color: #00af00\">14</span>, <span style=\"color: #00af00; text-decoration-color: #00af00\">14</span>, <span style=\"color: #00af00; text-decoration-color: #00af00\">256</span>)         │         <span style=\"color: #00af00; text-decoration-color: #00af00\">295,168</span> │\n",
       "├──────────────────────────────────────┼─────────────────────────────┼─────────────────┤\n",
       "│ conv2d_17 (<span style=\"color: #0087ff; text-decoration-color: #0087ff\">Conv2D</span>)                   │ (<span style=\"color: #00d7ff; text-decoration-color: #00d7ff\">None</span>, <span style=\"color: #00af00; text-decoration-color: #00af00\">12</span>, <span style=\"color: #00af00; text-decoration-color: #00af00\">12</span>, <span style=\"color: #00af00; text-decoration-color: #00af00\">256</span>)         │         <span style=\"color: #00af00; text-decoration-color: #00af00\">590,080</span> │\n",
       "├──────────────────────────────────────┼─────────────────────────────┼─────────────────┤\n",
       "│ max_pooling2d_8 (<span style=\"color: #0087ff; text-decoration-color: #0087ff\">MaxPooling2D</span>)       │ (<span style=\"color: #00d7ff; text-decoration-color: #00d7ff\">None</span>, <span style=\"color: #00af00; text-decoration-color: #00af00\">6</span>, <span style=\"color: #00af00; text-decoration-color: #00af00\">6</span>, <span style=\"color: #00af00; text-decoration-color: #00af00\">256</span>)           │               <span style=\"color: #00af00; text-decoration-color: #00af00\">0</span> │\n",
       "├──────────────────────────────────────┼─────────────────────────────┼─────────────────┤\n",
       "│ conv2d_18 (<span style=\"color: #0087ff; text-decoration-color: #0087ff\">Conv2D</span>)                   │ (<span style=\"color: #00d7ff; text-decoration-color: #00d7ff\">None</span>, <span style=\"color: #00af00; text-decoration-color: #00af00\">6</span>, <span style=\"color: #00af00; text-decoration-color: #00af00\">6</span>, <span style=\"color: #00af00; text-decoration-color: #00af00\">512</span>)           │       <span style=\"color: #00af00; text-decoration-color: #00af00\">1,180,160</span> │\n",
       "├──────────────────────────────────────┼─────────────────────────────┼─────────────────┤\n",
       "│ conv2d_19 (<span style=\"color: #0087ff; text-decoration-color: #0087ff\">Conv2D</span>)                   │ (<span style=\"color: #00d7ff; text-decoration-color: #00d7ff\">None</span>, <span style=\"color: #00af00; text-decoration-color: #00af00\">4</span>, <span style=\"color: #00af00; text-decoration-color: #00af00\">4</span>, <span style=\"color: #00af00; text-decoration-color: #00af00\">512</span>)           │       <span style=\"color: #00af00; text-decoration-color: #00af00\">2,359,808</span> │\n",
       "├──────────────────────────────────────┼─────────────────────────────┼─────────────────┤\n",
       "│ max_pooling2d_9 (<span style=\"color: #0087ff; text-decoration-color: #0087ff\">MaxPooling2D</span>)       │ (<span style=\"color: #00d7ff; text-decoration-color: #00d7ff\">None</span>, <span style=\"color: #00af00; text-decoration-color: #00af00\">2</span>, <span style=\"color: #00af00; text-decoration-color: #00af00\">2</span>, <span style=\"color: #00af00; text-decoration-color: #00af00\">512</span>)           │               <span style=\"color: #00af00; text-decoration-color: #00af00\">0</span> │\n",
       "├──────────────────────────────────────┼─────────────────────────────┼─────────────────┤\n",
       "│ dropout_2 (<span style=\"color: #0087ff; text-decoration-color: #0087ff\">Dropout</span>)                  │ (<span style=\"color: #00d7ff; text-decoration-color: #00d7ff\">None</span>, <span style=\"color: #00af00; text-decoration-color: #00af00\">2</span>, <span style=\"color: #00af00; text-decoration-color: #00af00\">2</span>, <span style=\"color: #00af00; text-decoration-color: #00af00\">512</span>)           │               <span style=\"color: #00af00; text-decoration-color: #00af00\">0</span> │\n",
       "├──────────────────────────────────────┼─────────────────────────────┼─────────────────┤\n",
       "│ flatten_1 (<span style=\"color: #0087ff; text-decoration-color: #0087ff\">Flatten</span>)                  │ (<span style=\"color: #00d7ff; text-decoration-color: #00d7ff\">None</span>, <span style=\"color: #00af00; text-decoration-color: #00af00\">2048</span>)                │               <span style=\"color: #00af00; text-decoration-color: #00af00\">0</span> │\n",
       "├──────────────────────────────────────┼─────────────────────────────┼─────────────────┤\n",
       "│ dense_2 (<span style=\"color: #0087ff; text-decoration-color: #0087ff\">Dense</span>)                      │ (<span style=\"color: #00d7ff; text-decoration-color: #00d7ff\">None</span>, <span style=\"color: #00af00; text-decoration-color: #00af00\">1500</span>)                │       <span style=\"color: #00af00; text-decoration-color: #00af00\">3,073,500</span> │\n",
       "├──────────────────────────────────────┼─────────────────────────────┼─────────────────┤\n",
       "│ dropout_3 (<span style=\"color: #0087ff; text-decoration-color: #0087ff\">Dropout</span>)                  │ (<span style=\"color: #00d7ff; text-decoration-color: #00d7ff\">None</span>, <span style=\"color: #00af00; text-decoration-color: #00af00\">1500</span>)                │               <span style=\"color: #00af00; text-decoration-color: #00af00\">0</span> │\n",
       "├──────────────────────────────────────┼─────────────────────────────┼─────────────────┤\n",
       "│ dense_3 (<span style=\"color: #0087ff; text-decoration-color: #0087ff\">Dense</span>)                      │ (<span style=\"color: #00d7ff; text-decoration-color: #00d7ff\">None</span>, <span style=\"color: #00af00; text-decoration-color: #00af00\">38</span>)                  │          <span style=\"color: #00af00; text-decoration-color: #00af00\">57,038</span> │\n",
       "└──────────────────────────────────────┴─────────────────────────────┴─────────────────┘\n",
       "</pre>\n"
      ],
      "text/plain": [
       "┏━━━━━━━━━━━━━━━━━━━━━━━━━━━━━━━━━━━━━━┳━━━━━━━━━━━━━━━━━━━━━━━━━━━━━┳━━━━━━━━━━━━━━━━━┓\n",
       "┃\u001b[1m \u001b[0m\u001b[1mLayer (type)                        \u001b[0m\u001b[1m \u001b[0m┃\u001b[1m \u001b[0m\u001b[1mOutput Shape               \u001b[0m\u001b[1m \u001b[0m┃\u001b[1m \u001b[0m\u001b[1m        Param #\u001b[0m\u001b[1m \u001b[0m┃\n",
       "┡━━━━━━━━━━━━━━━━━━━━━━━━━━━━━━━━━━━━━━╇━━━━━━━━━━━━━━━━━━━━━━━━━━━━━╇━━━━━━━━━━━━━━━━━┩\n",
       "│ conv2d_10 (\u001b[38;5;33mConv2D\u001b[0m)                   │ (\u001b[38;5;45mNone\u001b[0m, \u001b[38;5;34m128\u001b[0m, \u001b[38;5;34m128\u001b[0m, \u001b[38;5;34m32\u001b[0m)        │             \u001b[38;5;34m896\u001b[0m │\n",
       "├──────────────────────────────────────┼─────────────────────────────┼─────────────────┤\n",
       "│ conv2d_11 (\u001b[38;5;33mConv2D\u001b[0m)                   │ (\u001b[38;5;45mNone\u001b[0m, \u001b[38;5;34m126\u001b[0m, \u001b[38;5;34m126\u001b[0m, \u001b[38;5;34m32\u001b[0m)        │           \u001b[38;5;34m9,248\u001b[0m │\n",
       "├──────────────────────────────────────┼─────────────────────────────┼─────────────────┤\n",
       "│ max_pooling2d_5 (\u001b[38;5;33mMaxPooling2D\u001b[0m)       │ (\u001b[38;5;45mNone\u001b[0m, \u001b[38;5;34m63\u001b[0m, \u001b[38;5;34m63\u001b[0m, \u001b[38;5;34m32\u001b[0m)          │               \u001b[38;5;34m0\u001b[0m │\n",
       "├──────────────────────────────────────┼─────────────────────────────┼─────────────────┤\n",
       "│ conv2d_12 (\u001b[38;5;33mConv2D\u001b[0m)                   │ (\u001b[38;5;45mNone\u001b[0m, \u001b[38;5;34m63\u001b[0m, \u001b[38;5;34m63\u001b[0m, \u001b[38;5;34m64\u001b[0m)          │          \u001b[38;5;34m18,496\u001b[0m │\n",
       "├──────────────────────────────────────┼─────────────────────────────┼─────────────────┤\n",
       "│ conv2d_13 (\u001b[38;5;33mConv2D\u001b[0m)                   │ (\u001b[38;5;45mNone\u001b[0m, \u001b[38;5;34m61\u001b[0m, \u001b[38;5;34m61\u001b[0m, \u001b[38;5;34m64\u001b[0m)          │          \u001b[38;5;34m36,928\u001b[0m │\n",
       "├──────────────────────────────────────┼─────────────────────────────┼─────────────────┤\n",
       "│ max_pooling2d_6 (\u001b[38;5;33mMaxPooling2D\u001b[0m)       │ (\u001b[38;5;45mNone\u001b[0m, \u001b[38;5;34m30\u001b[0m, \u001b[38;5;34m30\u001b[0m, \u001b[38;5;34m64\u001b[0m)          │               \u001b[38;5;34m0\u001b[0m │\n",
       "├──────────────────────────────────────┼─────────────────────────────┼─────────────────┤\n",
       "│ conv2d_14 (\u001b[38;5;33mConv2D\u001b[0m)                   │ (\u001b[38;5;45mNone\u001b[0m, \u001b[38;5;34m30\u001b[0m, \u001b[38;5;34m30\u001b[0m, \u001b[38;5;34m128\u001b[0m)         │          \u001b[38;5;34m73,856\u001b[0m │\n",
       "├──────────────────────────────────────┼─────────────────────────────┼─────────────────┤\n",
       "│ conv2d_15 (\u001b[38;5;33mConv2D\u001b[0m)                   │ (\u001b[38;5;45mNone\u001b[0m, \u001b[38;5;34m28\u001b[0m, \u001b[38;5;34m28\u001b[0m, \u001b[38;5;34m128\u001b[0m)         │         \u001b[38;5;34m147,584\u001b[0m │\n",
       "├──────────────────────────────────────┼─────────────────────────────┼─────────────────┤\n",
       "│ max_pooling2d_7 (\u001b[38;5;33mMaxPooling2D\u001b[0m)       │ (\u001b[38;5;45mNone\u001b[0m, \u001b[38;5;34m14\u001b[0m, \u001b[38;5;34m14\u001b[0m, \u001b[38;5;34m128\u001b[0m)         │               \u001b[38;5;34m0\u001b[0m │\n",
       "├──────────────────────────────────────┼─────────────────────────────┼─────────────────┤\n",
       "│ conv2d_16 (\u001b[38;5;33mConv2D\u001b[0m)                   │ (\u001b[38;5;45mNone\u001b[0m, \u001b[38;5;34m14\u001b[0m, \u001b[38;5;34m14\u001b[0m, \u001b[38;5;34m256\u001b[0m)         │         \u001b[38;5;34m295,168\u001b[0m │\n",
       "├──────────────────────────────────────┼─────────────────────────────┼─────────────────┤\n",
       "│ conv2d_17 (\u001b[38;5;33mConv2D\u001b[0m)                   │ (\u001b[38;5;45mNone\u001b[0m, \u001b[38;5;34m12\u001b[0m, \u001b[38;5;34m12\u001b[0m, \u001b[38;5;34m256\u001b[0m)         │         \u001b[38;5;34m590,080\u001b[0m │\n",
       "├──────────────────────────────────────┼─────────────────────────────┼─────────────────┤\n",
       "│ max_pooling2d_8 (\u001b[38;5;33mMaxPooling2D\u001b[0m)       │ (\u001b[38;5;45mNone\u001b[0m, \u001b[38;5;34m6\u001b[0m, \u001b[38;5;34m6\u001b[0m, \u001b[38;5;34m256\u001b[0m)           │               \u001b[38;5;34m0\u001b[0m │\n",
       "├──────────────────────────────────────┼─────────────────────────────┼─────────────────┤\n",
       "│ conv2d_18 (\u001b[38;5;33mConv2D\u001b[0m)                   │ (\u001b[38;5;45mNone\u001b[0m, \u001b[38;5;34m6\u001b[0m, \u001b[38;5;34m6\u001b[0m, \u001b[38;5;34m512\u001b[0m)           │       \u001b[38;5;34m1,180,160\u001b[0m │\n",
       "├──────────────────────────────────────┼─────────────────────────────┼─────────────────┤\n",
       "│ conv2d_19 (\u001b[38;5;33mConv2D\u001b[0m)                   │ (\u001b[38;5;45mNone\u001b[0m, \u001b[38;5;34m4\u001b[0m, \u001b[38;5;34m4\u001b[0m, \u001b[38;5;34m512\u001b[0m)           │       \u001b[38;5;34m2,359,808\u001b[0m │\n",
       "├──────────────────────────────────────┼─────────────────────────────┼─────────────────┤\n",
       "│ max_pooling2d_9 (\u001b[38;5;33mMaxPooling2D\u001b[0m)       │ (\u001b[38;5;45mNone\u001b[0m, \u001b[38;5;34m2\u001b[0m, \u001b[38;5;34m2\u001b[0m, \u001b[38;5;34m512\u001b[0m)           │               \u001b[38;5;34m0\u001b[0m │\n",
       "├──────────────────────────────────────┼─────────────────────────────┼─────────────────┤\n",
       "│ dropout_2 (\u001b[38;5;33mDropout\u001b[0m)                  │ (\u001b[38;5;45mNone\u001b[0m, \u001b[38;5;34m2\u001b[0m, \u001b[38;5;34m2\u001b[0m, \u001b[38;5;34m512\u001b[0m)           │               \u001b[38;5;34m0\u001b[0m │\n",
       "├──────────────────────────────────────┼─────────────────────────────┼─────────────────┤\n",
       "│ flatten_1 (\u001b[38;5;33mFlatten\u001b[0m)                  │ (\u001b[38;5;45mNone\u001b[0m, \u001b[38;5;34m2048\u001b[0m)                │               \u001b[38;5;34m0\u001b[0m │\n",
       "├──────────────────────────────────────┼─────────────────────────────┼─────────────────┤\n",
       "│ dense_2 (\u001b[38;5;33mDense\u001b[0m)                      │ (\u001b[38;5;45mNone\u001b[0m, \u001b[38;5;34m1500\u001b[0m)                │       \u001b[38;5;34m3,073,500\u001b[0m │\n",
       "├──────────────────────────────────────┼─────────────────────────────┼─────────────────┤\n",
       "│ dropout_3 (\u001b[38;5;33mDropout\u001b[0m)                  │ (\u001b[38;5;45mNone\u001b[0m, \u001b[38;5;34m1500\u001b[0m)                │               \u001b[38;5;34m0\u001b[0m │\n",
       "├──────────────────────────────────────┼─────────────────────────────┼─────────────────┤\n",
       "│ dense_3 (\u001b[38;5;33mDense\u001b[0m)                      │ (\u001b[38;5;45mNone\u001b[0m, \u001b[38;5;34m38\u001b[0m)                  │          \u001b[38;5;34m57,038\u001b[0m │\n",
       "└──────────────────────────────────────┴─────────────────────────────┴─────────────────┘\n"
      ]
     },
     "metadata": {},
     "output_type": "display_data"
    },
    {
     "data": {
      "text/html": [
       "<pre style=\"white-space:pre;overflow-x:auto;line-height:normal;font-family:Menlo,'DejaVu Sans Mono',consolas,'Courier New',monospace\"><span style=\"font-weight: bold\"> Total params: </span><span style=\"color: #00af00; text-decoration-color: #00af00\">7,842,762</span> (29.92 MB)\n",
       "</pre>\n"
      ],
      "text/plain": [
       "\u001b[1m Total params: \u001b[0m\u001b[38;5;34m7,842,762\u001b[0m (29.92 MB)\n"
      ]
     },
     "metadata": {},
     "output_type": "display_data"
    },
    {
     "data": {
      "text/html": [
       "<pre style=\"white-space:pre;overflow-x:auto;line-height:normal;font-family:Menlo,'DejaVu Sans Mono',consolas,'Courier New',monospace\"><span style=\"font-weight: bold\"> Trainable params: </span><span style=\"color: #00af00; text-decoration-color: #00af00\">7,842,762</span> (29.92 MB)\n",
       "</pre>\n"
      ],
      "text/plain": [
       "\u001b[1m Trainable params: \u001b[0m\u001b[38;5;34m7,842,762\u001b[0m (29.92 MB)\n"
      ]
     },
     "metadata": {},
     "output_type": "display_data"
    },
    {
     "data": {
      "text/html": [
       "<pre style=\"white-space:pre;overflow-x:auto;line-height:normal;font-family:Menlo,'DejaVu Sans Mono',consolas,'Courier New',monospace\"><span style=\"font-weight: bold\"> Non-trainable params: </span><span style=\"color: #00af00; text-decoration-color: #00af00\">0</span> (0.00 B)\n",
       "</pre>\n"
      ],
      "text/plain": [
       "\u001b[1m Non-trainable params: \u001b[0m\u001b[38;5;34m0\u001b[0m (0.00 B)\n"
      ]
     },
     "metadata": {},
     "output_type": "display_data"
    }
   ],
   "source": [
    "cnn.summary()"
   ]
  },
  {
   "cell_type": "markdown",
   "id": "6403fae0-4af2-4d78-a21e-084c8dcfa949",
   "metadata": {},
   "source": [
    "## MODEL TRAINING"
   ]
  },
  {
   "cell_type": "code",
   "execution_count": 56,
   "id": "ff50a07a-d550-4c17-875f-67a1cf51c0bf",
   "metadata": {},
   "outputs": [
    {
     "name": "stdout",
     "output_type": "stream",
     "text": [
      "Epoch 1/10\n",
      "\u001b[1m550/550\u001b[0m \u001b[32m━━━━━━━━━━━━━━━━━━━━\u001b[0m\u001b[37m\u001b[0m \u001b[1m2557s\u001b[0m 5s/step - accuracy: 0.2960 - loss: 2.5656 - val_accuracy: 0.7781 - val_loss: 0.7154\n",
      "Epoch 2/10\n",
      "\u001b[1m550/550\u001b[0m \u001b[32m━━━━━━━━━━━━━━━━━━━━\u001b[0m\u001b[37m\u001b[0m \u001b[1m2042s\u001b[0m 4s/step - accuracy: 0.7614 - loss: 0.7612 - val_accuracy: 0.8694 - val_loss: 0.4014\n",
      "Epoch 3/10\n",
      "\u001b[1m550/550\u001b[0m \u001b[32m━━━━━━━━━━━━━━━━━━━━\u001b[0m\u001b[37m\u001b[0m \u001b[1m2004s\u001b[0m 4s/step - accuracy: 0.8562 - loss: 0.4496 - val_accuracy: 0.9054 - val_loss: 0.2897\n",
      "Epoch 4/10\n",
      "\u001b[1m550/550\u001b[0m \u001b[32m━━━━━━━━━━━━━━━━━━━━\u001b[0m\u001b[37m\u001b[0m \u001b[1m2619s\u001b[0m 5s/step - accuracy: 0.9043 - loss: 0.2962 - val_accuracy: 0.9132 - val_loss: 0.2696\n",
      "Epoch 5/10\n",
      "\u001b[1m550/550\u001b[0m \u001b[32m━━━━━━━━━━━━━━━━━━━━\u001b[0m\u001b[37m\u001b[0m \u001b[1m29484s\u001b[0m 54s/step - accuracy: 0.9265 - loss: 0.2192 - val_accuracy: 0.9344 - val_loss: 0.2076\n",
      "Epoch 6/10\n",
      "\u001b[1m550/550\u001b[0m \u001b[32m━━━━━━━━━━━━━━━━━━━━\u001b[0m\u001b[37m\u001b[0m \u001b[1m3674s\u001b[0m 7s/step - accuracy: 0.9452 - loss: 0.1625 - val_accuracy: 0.9503 - val_loss: 0.1598\n",
      "Epoch 7/10\n",
      "\u001b[1m550/550\u001b[0m \u001b[32m━━━━━━━━━━━━━━━━━━━━\u001b[0m\u001b[37m\u001b[0m \u001b[1m2949s\u001b[0m 5s/step - accuracy: 0.9587 - loss: 0.1232 - val_accuracy: 0.9585 - val_loss: 0.1300\n",
      "Epoch 8/10\n",
      "\u001b[1m550/550\u001b[0m \u001b[32m━━━━━━━━━━━━━━━━━━━━\u001b[0m\u001b[37m\u001b[0m \u001b[1m1991s\u001b[0m 4s/step - accuracy: 0.9642 - loss: 0.1049 - val_accuracy: 0.9635 - val_loss: 0.1221\n",
      "Epoch 9/10\n",
      "\u001b[1m550/550\u001b[0m \u001b[32m━━━━━━━━━━━━━━━━━━━━\u001b[0m\u001b[37m\u001b[0m \u001b[1m1984s\u001b[0m 4s/step - accuracy: 0.9685 - loss: 0.0915 - val_accuracy: 0.9586 - val_loss: 0.1284\n",
      "Epoch 10/10\n",
      "\u001b[1m550/550\u001b[0m \u001b[32m━━━━━━━━━━━━━━━━━━━━\u001b[0m\u001b[37m\u001b[0m \u001b[1m1994s\u001b[0m 4s/step - accuracy: 0.9737 - loss: 0.0770 - val_accuracy: 0.9542 - val_loss: 0.1489\n"
     ]
    }
   ],
   "source": [
    "training_history = cnn.fit(x=training_set,validation_data=validation_set,epochs=10)"
   ]
  },
  {
   "cell_type": "code",
   "execution_count": null,
   "id": "6d47f376-e390-4196-8407-b8c23bee5b6c",
   "metadata": {},
   "outputs": [],
   "source": []
  },
  {
   "cell_type": "markdown",
   "id": "7c8283ad-c7c4-40f5-8bfd-b1e54554b87a",
   "metadata": {},
   "source": [
    "## MODEL EVALUATION "
   ]
  },
  {
   "cell_type": "code",
   "execution_count": 57,
   "id": "ffad4aa6-5eac-429d-ad55-ed3e582e0b4d",
   "metadata": {},
   "outputs": [
    {
     "name": "stdout",
     "output_type": "stream",
     "text": [
      "\u001b[1m550/550\u001b[0m \u001b[32m━━━━━━━━━━━━━━━━━━━━\u001b[0m\u001b[37m\u001b[0m \u001b[1m640s\u001b[0m 1s/step - accuracy: 0.9844 - loss: 0.0485\n"
     ]
    }
   ],
   "source": [
    "#model Evaluation on Training set\n",
    "train_loss,train_acc = cnn.evaluate(training_set)"
   ]
  },
  {
   "cell_type": "code",
   "execution_count": 58,
   "id": "530c48ba-8f86-4410-aca9-9ec8c754c3ad",
   "metadata": {},
   "outputs": [
    {
     "name": "stdout",
     "output_type": "stream",
     "text": [
      "0.045065686106681824 0.9860160946846008\n"
     ]
    }
   ],
   "source": [
    "print(train_loss,train_acc)"
   ]
  },
  {
   "cell_type": "code",
   "execution_count": 59,
   "id": "73eb2aa3-e261-4047-af27-7c37dba006f8",
   "metadata": {},
   "outputs": [
    {
     "name": "stdout",
     "output_type": "stream",
     "text": [
      "\u001b[1m138/138\u001b[0m \u001b[32m━━━━━━━━━━━━━━━━━━━━\u001b[0m\u001b[37m\u001b[0m \u001b[1m148s\u001b[0m 1s/step - accuracy: 0.9526 - loss: 0.1599\n",
      "Validation accuracy: 0.954245388507843\n"
     ]
    }
   ],
   "source": [
    "#Validation set Accuracy\n",
    "val_loss, val_acc = cnn.evaluate(validation_set)\n",
    "print('Validation accuracy:', val_acc)"
   ]
  },
  {
   "cell_type": "markdown",
   "id": "0e8f0f48-7112-4003-97e5-a868475147be",
   "metadata": {},
   "source": [
    "# SAVING MODEL"
   ]
  },
  {
   "cell_type": "code",
   "execution_count": 60,
   "id": "9f1aae3d-1582-49e1-977f-663b71160f75",
   "metadata": {},
   "outputs": [],
   "source": [
    "cnn.save('trained_plant_disease_model.keras')"
   ]
  },
  {
   "cell_type": "code",
   "execution_count": 61,
   "id": "67f9fb4e-b653-4565-8e2f-ba92ce5618d3",
   "metadata": {},
   "outputs": [
    {
     "data": {
      "text/plain": [
       "{'accuracy': [0.4891386330127716,\n",
       "  0.7947791218757629,\n",
       "  0.8718827962875366,\n",
       "  0.9129383563995361,\n",
       "  0.932598352432251,\n",
       "  0.9488726258277893,\n",
       "  0.961320161819458,\n",
       "  0.9658581614494324,\n",
       "  0.9729995131492615,\n",
       "  0.9749768972396851],\n",
       " 'loss': [1.766723871231079,\n",
       "  0.6522012948989868,\n",
       "  0.39822065830230713,\n",
       "  0.2692294418811798,\n",
       "  0.20057067275047302,\n",
       "  0.1524907946586609,\n",
       "  0.11767653375864029,\n",
       "  0.10062254220247269,\n",
       "  0.0799812376499176,\n",
       "  0.073162741959095],\n",
       " 'val_accuracy': [0.7781128883361816,\n",
       "  0.8693944811820984,\n",
       "  0.9054176807403564,\n",
       "  0.9132142066955566,\n",
       "  0.9343842267990112,\n",
       "  0.9503186941146851,\n",
       "  0.9585135579109192,\n",
       "  0.9635215401649475,\n",
       "  0.9585704803466797,\n",
       "  0.954245388507843],\n",
       " 'val_loss': [0.7153806686401367,\n",
       "  0.40135806798934937,\n",
       "  0.2897111177444458,\n",
       "  0.26959744095802307,\n",
       "  0.20759114623069763,\n",
       "  0.15976783633232117,\n",
       "  0.1300167292356491,\n",
       "  0.12214978784322739,\n",
       "  0.1284308135509491,\n",
       "  0.14885877072811127]}"
      ]
     },
     "execution_count": 61,
     "metadata": {},
     "output_type": "execute_result"
    }
   ],
   "source": [
    "training_history.history "
   ]
  },
  {
   "cell_type": "code",
   "execution_count": 63,
   "id": "ee57f092-ac8a-405d-b6b8-5143db208d84",
   "metadata": {},
   "outputs": [],
   "source": [
    "#Recording History in json\n",
    "import json\n",
    "with open('training_hist.json','w') as f:\n",
    "  json.dump(training_history.history,f)"
   ]
  },
  {
   "cell_type": "code",
   "execution_count": 64,
   "id": "d723bf26-7dad-4f61-940c-ec09c3c44953",
   "metadata": {},
   "outputs": [
    {
     "name": "stdout",
     "output_type": "stream",
     "text": [
      "dict_keys(['accuracy', 'loss', 'val_accuracy', 'val_loss'])\n"
     ]
    }
   ],
   "source": [
    "print(training_history.history.keys())"
   ]
  },
  {
   "cell_type": "code",
   "execution_count": 65,
   "id": "3c78a6e5-5e71-4b92-807f-583b569817cc",
   "metadata": {},
   "outputs": [
    {
     "name": "stdout",
     "output_type": "stream",
     "text": [
      "[0.4891386330127716, 0.7947791218757629, 0.8718827962875366, 0.9129383563995361, 0.932598352432251, 0.9488726258277893, 0.961320161819458, 0.9658581614494324, 0.9729995131492615, 0.9749768972396851]\n"
     ]
    }
   ],
   "source": [
    "print(training_history.history['accuracy'])"
   ]
  },
  {
   "cell_type": "markdown",
   "id": "f2fdc369-2154-41d5-9ed9-fed80e897488",
   "metadata": {},
   "source": [
    "## ACCURACY VISUALIZATION"
   ]
  },
  {
   "cell_type": "code",
   "execution_count": 66,
   "id": "4c7f8ed0-32a0-4a39-aaf7-0474a976391e",
   "metadata": {},
   "outputs": [
    {
     "data": {
      "image/png": "[encoded data removed]",
      "text/plain": [
       "<Figure size 640x480 with 1 Axes>"
      ]
     },
     "metadata": {},
     "output_type": "display_data"
    }
   ],
   "source": [
    "epochs = [i for i in range(1,11)]\n",
    "plt.plot(epochs,training_history.history['accuracy'],color='red',label='Training Accuracy')\n",
    "plt.plot(epochs,training_history.history['val_accuracy'],color='blue',label='Validation Accuracy')\n",
    "plt.xlabel('No. of Epochs')\n",
    "plt.title('Visualization of Accuracy Result')\n",
    "plt.legend()\n",
    "plt.show()"
   ]
  },
  {
   "cell_type": "markdown",
   "id": "5a6b35f7-4615-4b0a-997f-bbf5ca2b8bfb",
   "metadata": {},
   "source": [
    "## SOME OTHER MATRICES FOR MODEL VISUALIZATION "
   ]
  },
  {
   "cell_type": "code",
   "execution_count": 72,
   "id": "4bf2580e-87a8-447b-bc33-70864cd46bb9",
   "metadata": {},
   "outputs": [
    {
     "name": "stdout",
     "output_type": "stream",
     "text": [
      "Class names: ['Apple___Apple_scab', 'Apple___Black_rot', 'Apple___Cedar_apple_rust', 'Apple___healthy', 'Blueberry___healthy', 'Cherry_(including_sour)___Powdery_mildew', 'Cherry_(including_sour)___healthy', 'Corn_(maize)___Cercospora_leaf_spot Gray_leaf_spot', 'Corn_(maize)___Common_rust_', 'Corn_(maize)___Northern_Leaf_Blight', 'Corn_(maize)___healthy', 'Grape___Black_rot', 'Grape___Esca_(Black_Measles)', 'Grape___Leaf_blight_(Isariopsis_Leaf_Spot)', 'Grape___healthy', 'Orange___Haunglongbing_(Citrus_greening)', 'Peach___Bacterial_spot', 'Peach___healthy', 'Pepper,_bell___Bacterial_spot', 'Pepper,_bell___healthy', 'Potato___Early_blight', 'Potato___Late_blight', 'Potato___healthy', 'Raspberry___healthy', 'Soybean___healthy', 'Squash___Powdery_mildew', 'Strawberry___Leaf_scorch', 'Strawberry___healthy', 'Tomato___Bacterial_spot', 'Tomato___Early_blight', 'Tomato___Late_blight', 'Tomato___Leaf_Mold', 'Tomato___Septoria_leaf_spot', 'Tomato___Spider_mites Two-spotted_spider_mite', 'Tomato___Target_Spot', 'Tomato___Tomato_Yellow_Leaf_Curl_Virus', 'Tomato___Tomato_mosaic_virus', 'Tomato___healthy']\n"
     ]
    }
   ],
   "source": [
    "# Get the class names\n",
    "class_names = validation_set.class_names\n",
    "\n",
    "# Print the class names\n",
    "print(\"Class names:\", class_names)"
   ]
  },
  {
   "cell_type": "code",
   "execution_count": 73,
   "id": "ff1d1400-81e5-4819-9363-91374c430552",
   "metadata": {},
   "outputs": [
    {
     "name": "stdout",
     "output_type": "stream",
     "text": [
      "Found 17572 files belonging to 38 classes.\n"
     ]
    }
   ],
   "source": [
    "test_set = tf.keras.utils.image_dataset_from_directory(\n",
    "    'valid',\n",
    "    labels=\"inferred\",\n",
    "    label_mode=\"categorical\",\n",
    "    class_names=None,\n",
    "    color_mode=\"rgb\",\n",
    "    batch_size=128,\n",
    "    image_size=(128, 128),\n",
    "    shuffle=False,\n",
    "    seed=None,\n",
    "    validation_split=None,\n",
    "    subset=None,\n",
    "    interpolation=\"bilinear\",\n",
    "    follow_links=False,\n",
    "    crop_to_aspect_ratio=False\n",
    ")"
   ]
  },
  {
   "cell_type": "code",
   "execution_count": 74,
   "id": "e1c43fce-0f03-4573-a95a-cc9cf889485f",
   "metadata": {},
   "outputs": [
    {
     "name": "stdout",
     "output_type": "stream",
     "text": [
      "\u001b[1m138/138\u001b[0m \u001b[32m━━━━━━━━━━━━━━━━━━━━\u001b[0m\u001b[37m\u001b[0m \u001b[1m108s\u001b[0m 787ms/step\n"
     ]
    },
    {
     "data": {
      "text/plain": [
       "(array([[0.03250761, 0.01113353, 0.04149241, ..., 0.03224627, 0.01781243,\n",
       "         0.03340012],\n",
       "        [0.03559979, 0.01247067, 0.04099054, ..., 0.03531483, 0.02003573,\n",
       "         0.02342328],\n",
       "        [0.03655781, 0.01231152, 0.04285089, ..., 0.03187928, 0.01604589,\n",
       "         0.03118168],\n",
       "        ...,\n",
       "        [0.03464181, 0.01088086, 0.04015096, ..., 0.03160226, 0.01779008,\n",
       "         0.02916609],\n",
       "        [0.03268641, 0.01177602, 0.03833693, ..., 0.03293331, 0.01835307,\n",
       "         0.02923879],\n",
       "        [0.02949312, 0.00778307, 0.04671398, ..., 0.02995981, 0.01444807,\n",
       "         0.03559142]], dtype=float32),\n",
       " (17572, 38))"
      ]
     },
     "execution_count": 74,
     "metadata": {},
     "output_type": "execute_result"
    }
   ],
   "source": [
    "y_pred = cnn.predict(test_set)\n",
    "y_pred,y_pred.shape"
   ]
  },
  {
   "cell_type": "code",
   "execution_count": 30,
   "id": "db49df5e-37a4-4b1f-b736-fa285a3b27e9",
   "metadata": {},
   "outputs": [],
   "source": [
    "predicted_categories = tf.argmax(y_pred, axis=1)"
   ]
  },
  {
   "cell_type": "code",
   "execution_count": 31,
   "id": "43f397ed-f80d-4fbe-aea6-31f978d600a4",
   "metadata": {},
   "outputs": [
    {
     "data": {
      "text/plain": [
       "<tf.Tensor: shape=(17572,), dtype=int64, numpy=array([32, 32, 32, ..., 32, 32, 32], dtype=int64)>"
      ]
     },
     "execution_count": 31,
     "metadata": {},
     "output_type": "execute_result"
    }
   ],
   "source": [
    "predicted_categories"
   ]
  },
  {
   "cell_type": "code",
   "execution_count": 32,
   "id": "a5650ac3-b695-4b49-ae1a-e891fb87eafe",
   "metadata": {},
   "outputs": [],
   "source": [
    "true_categories = tf.concat([y for x, y in test_set], axis=0)\n",
    "Y_true = tf.argmax(true_categories, axis=1)"
   ]
  },
  {
   "cell_type": "code",
   "execution_count": 33,
   "id": "7bb22b0e-4570-42d4-aab1-5c230649f934",
   "metadata": {},
   "outputs": [
    {
     "data": {
      "text/plain": [
       "<tf.Tensor: shape=(17572,), dtype=int64, numpy=array([ 0,  0,  0, ..., 37, 37, 37], dtype=int64)>"
      ]
     },
     "execution_count": 33,
     "metadata": {},
     "output_type": "execute_result"
    }
   ],
   "source": [
    "Y_true"
   ]
  },
  {
   "cell_type": "code",
   "execution_count": 75,
   "id": "0bdfcc8f-9742-4fb7-b6b8-c191d99273f1",
   "metadata": {},
   "outputs": [],
   "source": [
    "from sklearn.metrics import confusion_matrix,classification_report"
   ]
  },
  {
   "cell_type": "code",
   "execution_count": 78,
   "id": "87eb6ab1-30b3-4cb6-a158-cfd06e04d4ba",
   "metadata": {},
   "outputs": [
    {
     "name": "stdout",
     "output_type": "stream",
     "text": [
      "                                                    precision    recall  f1-score   support\n",
      "\n",
      "                                Apple___Apple_scab       0.00      0.00      0.00       504\n",
      "                                 Apple___Black_rot       0.00      0.00      0.00       497\n",
      "                          Apple___Cedar_apple_rust       0.00      0.00      0.00       440\n",
      "                                   Apple___healthy       0.00      0.00      0.00       502\n",
      "                               Blueberry___healthy       0.05      0.02      0.02       454\n",
      "          Cherry_(including_sour)___Powdery_mildew       0.00      0.00      0.00       421\n",
      "                 Cherry_(including_sour)___healthy       0.00      0.00      0.00       456\n",
      "Corn_(maize)___Cercospora_leaf_spot Gray_leaf_spot       0.00      0.00      0.00       410\n",
      "                       Corn_(maize)___Common_rust_       0.00      0.00      0.00       477\n",
      "               Corn_(maize)___Northern_Leaf_Blight       0.00      0.00      0.00       477\n",
      "                            Corn_(maize)___healthy       0.00      0.00      0.00       465\n",
      "                                 Grape___Black_rot       0.11      0.00      0.01       472\n",
      "                      Grape___Esca_(Black_Measles)       0.00      0.00      0.00       480\n",
      "        Grape___Leaf_blight_(Isariopsis_Leaf_Spot)       0.00      0.00      0.00       430\n",
      "                                   Grape___healthy       0.00      0.00      0.00       423\n",
      "          Orange___Haunglongbing_(Citrus_greening)       0.00      0.00      0.00       503\n",
      "                            Peach___Bacterial_spot       0.02      0.02      0.02       459\n",
      "                                   Peach___healthy       0.00      0.00      0.00       432\n",
      "                     Pepper,_bell___Bacterial_spot       0.00      0.00      0.00       478\n",
      "                            Pepper,_bell___healthy       0.00      0.00      0.00       497\n",
      "                             Potato___Early_blight       0.00      0.00      0.00       485\n",
      "                              Potato___Late_blight       0.02      0.00      0.00       485\n",
      "                                  Potato___healthy       0.00      0.00      0.00       456\n",
      "                               Raspberry___healthy       0.00      0.00      0.00       445\n",
      "                                 Soybean___healthy       0.00      0.00      0.00       505\n",
      "                           Squash___Powdery_mildew       0.00      0.00      0.00       434\n",
      "                          Strawberry___Leaf_scorch       0.00      0.00      0.00       444\n",
      "                              Strawberry___healthy       0.00      0.00      0.00       456\n",
      "                           Tomato___Bacterial_spot       0.00      0.00      0.00       425\n",
      "                             Tomato___Early_blight       0.00      0.00      0.00       480\n",
      "                              Tomato___Late_blight       0.00      0.00      0.00       463\n",
      "                                Tomato___Leaf_Mold       0.00      0.00      0.00       470\n",
      "                       Tomato___Septoria_leaf_spot       0.03      0.97      0.05       436\n",
      "     Tomato___Spider_mites Two-spotted_spider_mite       0.00      0.00      0.00       435\n",
      "                              Tomato___Target_Spot       0.00      0.00      0.00       457\n",
      "            Tomato___Tomato_Yellow_Leaf_Curl_Virus       0.00      0.00      0.00       490\n",
      "                      Tomato___Tomato_mosaic_virus       0.00      0.00      0.00       448\n",
      "                                  Tomato___healthy       0.00      0.00      0.00       481\n",
      "\n",
      "                                          accuracy                           0.03     17572\n",
      "                                         macro avg       0.01      0.03      0.00     17572\n",
      "                                      weighted avg       0.01      0.03      0.00     17572\n",
      "\n"
     ]
    },
    {
     "name": "stderr",
     "output_type": "stream",
     "text": [
      "C:\\Users\\achar\\AppData\\Local\\Programs\\Python\\Python311\\Lib\\site-packages\\sklearn\\metrics\\_classification.py:1509: UndefinedMetricWarning: Precision is ill-defined and being set to 0.0 in labels with no predicted samples. Use `zero_division` parameter to control this behavior.\n",
      "  _warn_prf(average, modifier, f\"{metric.capitalize()} is\", len(result))\n",
      "C:\\Users\\achar\\AppData\\Local\\Programs\\Python\\Python311\\Lib\\site-packages\\sklearn\\metrics\\_classification.py:1509: UndefinedMetricWarning: Precision is ill-defined and being set to 0.0 in labels with no predicted samples. Use `zero_division` parameter to control this behavior.\n",
      "  _warn_prf(average, modifier, f\"{metric.capitalize()} is\", len(result))\n",
      "C:\\Users\\achar\\AppData\\Local\\Programs\\Python\\Python311\\Lib\\site-packages\\sklearn\\metrics\\_classification.py:1509: UndefinedMetricWarning: Precision is ill-defined and being set to 0.0 in labels with no predicted samples. Use `zero_division` parameter to control this behavior.\n",
      "  _warn_prf(average, modifier, f\"{metric.capitalize()} is\", len(result))\n"
     ]
    }
   ],
   "source": [
    "print(classification_report(Y_true,predicted_categories,target_names=class_names))"
   ]
  }
 ],
 "metadata": {
  "kernelspec": {
   "display_name": "Python 3 (ipykernel)",
   "language": "python",
   "name": "python3"
  },
  "language_info": {
   "codemirror_mode": {
    "name": "ipython",
    "version": 3
   },
   "file_extension": ".py",
   "mimetype": "text/x-python",
   "name": "python",
   "nbconvert_exporter": "python",
   "pygments_lexer": "ipython3",
   "version": "3.11.8"
  },
  "widgets": {
   "application/vnd.jupyter.widget-state+json": {
    "state": {},
    "version_major": 2,
    "version_minor": 0
   }
  }
 },
 "nbformat": 4,
 "nbformat_minor": 5
}
